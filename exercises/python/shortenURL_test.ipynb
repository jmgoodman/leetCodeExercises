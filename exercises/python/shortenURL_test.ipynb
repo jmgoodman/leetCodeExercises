{
 "cells": [
  {
   "cell_type": "code",
   "execution_count": 80,
   "metadata": {},
   "outputs": [],
   "source": [
    "class Codec: # this is gonna need a database. presumably a hash table whose memory addresses map cleanly and invertibly to shortened URLs\n",
    "    def __init__(self):\n",
    "        self.hashmap = dict() # no need to implement everything by hand...\n",
    "\n",
    "    def genKeyNum(self, longUrl:str) -> int:\n",
    "        runningSum  = 0\n",
    "        maxN        = 50\n",
    "        N           = min(maxN,len(longUrl))\n",
    "        nChar       = 3\n",
    "        nCharSchatz = 62\n",
    "        period      = nCharSchatz**nChar\n",
    "        for idx in range(N):\n",
    "            runningSum =  ( runningSum + ord(longUrl[-(idx+1)]) ) % int(period)\n",
    "\n",
    "        return runningSum\n",
    "\n",
    "    def genKeyStr(self,keyNum:int) -> str:\n",
    "        _keyNum = keyNum\n",
    "        nChar   = 3\n",
    "        nCharSchatz = 62\n",
    "        outStr = ''\n",
    "        for idx in range(nChar):\n",
    "            pd = nCharSchatz**(nChar-idx-1)\n",
    "            charNum = _keyNum // pd\n",
    "            _keyNum -= charNum * pd\n",
    "            outStr += self.convert2char(charNum)\n",
    "\n",
    "        return outStr\n",
    "\n",
    "    def genKey(self, longUrl:str) -> (str,int):\n",
    "        keyNum = self.genKeyNum(longUrl)\n",
    "        keyStr = self.genKeyStr(keyNum)\n",
    "        return (keyStr,keyNum)\n",
    "\n",
    "    def convert2char(self,charNum:int)->str:\n",
    "        if charNum >= 52:\n",
    "            return chr(charNum-52+48)\n",
    "        elif charNum >= 26:\n",
    "            return chr(charNum-26+97)\n",
    "        else:\n",
    "            return chr(charNum+65)\n",
    "\n",
    "    def encode(self, longUrl: str) -> str:\n",
    "        \"\"\"Encodes a URL to a shortened URL.\n",
    "        \"\"\"\n",
    "        (keyStr,keyNum) = self.genKey(longUrl)\n",
    "        while keyStr in self.hashmap: # collision handling: seek thru the table til you find a free slot\n",
    "            keyNum = (keyNum+1) % int(62**3)\n",
    "            keyStr = self.genKeyStr(keyNum)\n",
    "\n",
    "        self.hashmap[keyStr] = longUrl\n",
    "        return 'https://tinyurl.com/'+keyStr\n",
    "        \n",
    "\n",
    "    def decode(self, shortUrl: str) -> str:\n",
    "        \"\"\"Decodes a shortened URL to its original URL.\n",
    "        \"\"\"\n",
    "        keyStr = shortUrl[-3:] # last 3 chars\n",
    "        return self.hashmap[keyStr] # no need to handle collisions, the URL they're given is the one you look up!\n",
    "        \n",
    "\n",
    "# Your Codec object will be instantiated and called as such:\n",
    "# codec = Codec()\n",
    "# codec.decode(codec.encode(url))"
   ]
  },
  {
   "cell_type": "code",
   "execution_count": 85,
   "metadata": {
    "scrolled": true
   },
   "outputs": [
    {
     "name": "stdout",
     "output_type": "stream",
     "text": [
      "['www.google.com', 'www.twitter.com', 'www.wikipedia.org', 'www.ebay.com', 'https://en.wikipedia.org/wiki/Hammurabi#References']\n",
      "['https://tinyurl.com/AWp', 'https://tinyurl.com/AZF', 'https://tinyurl.com/Ab2', 'https://tinyurl.com/ATH', 'https://tinyurl.com/BPg']\n",
      "['www.google.com', 'www.twitter.com', 'www.wikipedia.org', 'www.ebay.com', 'https://en.wikipedia.org/wiki/Hammurabi#References']\n"
     ]
    }
   ],
   "source": [
    "codec = Codec()\n",
    "\n",
    "urls = ['www.google.com','www.twitter.com','www.wikipedia.org','www.ebay.com','https://en.wikipedia.org/wiki/Hammurabi#References']\n",
    "print(urls)\n",
    "encoded = []\n",
    "\n",
    "for _url in urls:\n",
    "    newEncoded = codec.encode(_url)\n",
    "    encoded.append(newEncoded)\n",
    "    \n",
    "print(encoded)\n",
    "\n",
    "print( [codec.decode(enc) for enc in encoded] )\n"
   ]
  }
 ],
 "metadata": {
  "kernelspec": {
   "display_name": "Python 3",
   "language": "python",
   "name": "python3"
  },
  "language_info": {
   "codemirror_mode": {
    "name": "ipython",
    "version": 3
   },
   "file_extension": ".py",
   "mimetype": "text/x-python",
   "name": "python",
   "nbconvert_exporter": "python",
   "pygments_lexer": "ipython3",
   "version": "3.7.1"
  }
 },
 "nbformat": 4,
 "nbformat_minor": 2
}
