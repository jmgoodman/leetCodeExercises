{
 "cells": [
  {
   "cell_type": "code",
   "execution_count": 1,
   "metadata": {
    "scrolled": true
   },
   "outputs": [],
   "source": [
    "from typing import List\n",
    "import math\n",
    "import time\n",
    "from numpy import random\n",
    "\n",
    "class Solution:\n",
    "    def findMedianSortedArrays(self, nums1: List[int], nums2: List[int]) -> float:\n",
    "        \n",
    "        # here, we handle annoying edge cases\n",
    "        # godddd why can't discrete math just hold everywhere?\n",
    "        if len(nums1)==0 and len(nums2)==0:\n",
    "            return None\n",
    "        elif len(nums1)==0:\n",
    "            return self.getMedian(nums2)\n",
    "        elif len(nums2)==0:\n",
    "            return self.getMedian(nums1)\n",
    "        elif len(nums1)==1 and len(nums2)==1:\n",
    "            return (nums1[0]+nums2[0])/2\n",
    "        elif len(nums1)==1:\n",
    "            if len(nums2) % 2: # if odd:\n",
    "                idx  = len(nums2) // 2\n",
    "                temp = sorted( nums2[(idx-1):(idx+2)]+[nums1[0]] )\n",
    "                return self.getMedian(temp)\n",
    "            else:\n",
    "                idx  = len(nums2) // 2\n",
    "                temp = sorted( nums2[(idx-1):(idx+1)]+[nums1[0]] )\n",
    "                return self.getMedian(temp)\n",
    "        elif len(nums2)==1:\n",
    "            if len(nums1) % 2: # if odd:\n",
    "                idx  = len(nums1) // 2\n",
    "                temp = sorted( nums1[(idx-1):(idx+2)]+[nums2[0]] )\n",
    "                return self.getMedian(temp)\n",
    "            else:\n",
    "                idx  = len(nums1) // 2\n",
    "                temp = sorted( nums1[(idx-1):(idx+1)]+[nums2[0]] )\n",
    "                return self.getMedian(temp)\n",
    "        elif len(nums1)==2 and len(nums2)==2:\n",
    "            temp = sorted(nums1+nums2)\n",
    "            return self.getMedian(temp)\n",
    "        elif len(nums1)==2:\n",
    "            if len(nums2) % 2: # if odd:\n",
    "                idx  = len(nums2)//2\n",
    "                temp = sorted( nums2[(idx-1):(idx+2)]+[nums1[0],nums1[1]] )\n",
    "                return self.getMedian(temp)\n",
    "            else:\n",
    "                idx = len(nums2)//2\n",
    "                temp = sorted( nums2[(idx-2):(idx+2)]+[nums1[0],nums1[1]] )\n",
    "                return self.getMedian(temp)\n",
    "        elif len(nums2)==2:\n",
    "            if len(nums1) % 2: # if odd:\n",
    "                idx  = len(nums1)//2\n",
    "                temp = sorted( nums1[(idx-1):(idx+2)]+[nums2[0],nums2[1]] )\n",
    "                return self.getMedian(temp)\n",
    "            else:\n",
    "                idx = len(nums1)//2\n",
    "                temp = sorted( nums1[(idx-2):(idx+2)]+[nums2[0],nums2[1]] )\n",
    "                return self.getMedian(temp) \n",
    "        else:\n",
    "            pass\n",
    "            \n",
    "        # here, compute medians and shave arrays recursively\n",
    "        med1 = self.getMedian(nums1)\n",
    "        med2 = self.getMedian(nums2)\n",
    "        \n",
    "        m = (len(nums1)-1)//2 # always preserve the median SET\n",
    "        n = (len(nums2)-1)//2\n",
    "        \n",
    "        # not only should you preserve parity, you should keep slices symmetric\n",
    "        k = min(m,n)\n",
    "                \n",
    "        if med1 == med2:\n",
    "            return med1\n",
    "        elif med1 < med2:\n",
    "            bigLeft  = nums2[:(-k)]\n",
    "            lilRight = nums1[k:]\n",
    "        else:\n",
    "            bigLeft  = nums1[:(-k)]\n",
    "            lilRight = nums2[k:]\n",
    "        \n",
    "        return self.findMedianSortedArrays(bigLeft,lilRight)\n",
    "        \n",
    "                    \n",
    "    def getMedian(self,nums:List[int]) -> float:\n",
    "        n = len(nums)\n",
    "        if n == 0:\n",
    "            return None\n",
    "        \n",
    "        if n % 2:\n",
    "            idx = n//2\n",
    "            val = nums[idx]\n",
    "        else:\n",
    "            idx = [n//2-1,n//2]\n",
    "            val = (nums[idx[0]] + nums[idx[1]])/2\n",
    "        \n",
    "        return val\n",
    "            "
   ]
  },
  {
   "cell_type": "code",
   "execution_count": 2,
   "metadata": {},
   "outputs": [],
   "source": [
    "class Solution_:\n",
    "    def findMedianSortedArrays(self, nums1: List[int], nums2: List[int]) -> float:\n",
    "        # trick question, divide-and-conquer does NOT work here...\n",
    "        \n",
    "        # do in-place stuff to save on memory assignment overhead, that seems to be how the top solutions manage it\n",
    "        for num in nums2:\n",
    "            nums1.append(num)\n",
    "        \n",
    "        nums1.sort()\n",
    "        k = len(nums1)\n",
    "        \n",
    "        if k==0:\n",
    "            return None\n",
    "        \n",
    "        if k%2:\n",
    "            return nums1[k//2]\n",
    "        else:\n",
    "            return ( nums1[k//2-1]+nums1[k//2] )/2"
   ]
  },
  {
   "cell_type": "code",
   "execution_count": 3,
   "metadata": {},
   "outputs": [
    {
     "data": {
      "text/plain": [
       "[1.5, 2, 2.5, 2.5, 3, 3, 3.5, 3.5, 4.5, 4.5, 4, 4.5, 5.5]"
      ]
     },
     "execution_count": 3,
     "metadata": {},
     "output_type": "execute_result"
    }
   ],
   "source": [
    "numslists = [ [[1,2],[-1,3]], [[1,3],[2]], [[],[1,2,3,4]],[[1,2,3,4],[]], [[],[1,2,3,4,5]],[[1,2,3,4,5],[]], [[1,2],[3,4,5,6]],[[1,2,3,4],[5,6]], [[1,3,5,7],[2,4,6,8]],[[2,4,6,8],[1,3,5,7]] ]\n",
    "numslists = numslists + [ [[1,3,4],[2,5,6,7]],[[1,2,6,7],[3,4,5,8]], [[1,2,3],[4,5,6,7,8,9,10]] ]\n",
    "\n",
    "soln = Solution()\n",
    "\n",
    "[ soln.findMedianSortedArrays(x[0],x[1]) for x in numslists ]"
   ]
  },
  {
   "cell_type": "code",
   "execution_count": 4,
   "metadata": {},
   "outputs": [
    {
     "name": "stdout",
     "output_type": "stream",
     "text": [
      "[2, 3, 4, 5]\n",
      "[1, 2, 3, 4]\n"
     ]
    }
   ],
   "source": [
    "q=[1,2,3,4,5]\n",
    "print(q[1:])\n",
    "print(q[:(-1)])"
   ]
  },
  {
   "cell_type": "code",
   "execution_count": 5,
   "metadata": {},
   "outputs": [],
   "source": [
    "# [1,3,4]\n",
    "# [2,5,6,7]\n",
    "\n",
    "# [1,2,6,7]\n",
    "# [3,4,5,8]"
   ]
  },
  {
   "cell_type": "code",
   "execution_count": 6,
   "metadata": {},
   "outputs": [
    {
     "name": "stdout",
     "output_type": "stream",
     "text": [
      "0.019028399999999834\n",
      "0.01794709999999977\n",
      "0.017562000000000744\n",
      "0.022374499999999742\n",
      "0.019920600000000732\n",
      "0.07811249999999959\n",
      "0.07889800000000058\n",
      "0.07860200000000006\n",
      "0.08061419999999941\n",
      "0.07848590000000044\n"
     ]
    }
   ],
   "source": [
    "soln  = Solution()\n",
    "soln_ = Solution_()\n",
    "N = int(1e6)\n",
    "\n",
    "for _ in range(5):\n",
    "    a = []\n",
    "    b = []\n",
    "        \n",
    "    for i in range(N):\n",
    "        r = random.randint(0,2)\n",
    "        if r == 0:\n",
    "            a.append(i)\n",
    "        else:\n",
    "            b.append(i)\n",
    "            \n",
    "    t0 = time.perf_counter()\n",
    "    med1 = soln.findMedianSortedArrays(a,b) # divide-and-conquer\n",
    "    t1 = time.perf_counter()\n",
    "    \n",
    "    print(t1-t0)\n",
    "    \n",
    "for _ in range(5):\n",
    "    a = []\n",
    "    b = []\n",
    "        \n",
    "    for i in range(N):\n",
    "        r = random.randint(0,2)\n",
    "        if r == 0:\n",
    "            a.append(i)\n",
    "        else:\n",
    "            b.append(i)\n",
    "            \n",
    "    t0 = time.perf_counter()\n",
    "    med1 = soln_.findMedianSortedArrays(a,b) # linear\n",
    "    t1 = time.perf_counter()\n",
    "    \n",
    "    print(t1-t0)\n",
    "    \n",
    "# yeah! divide-and-conquer works! but... due to overhead, time savings are only seen for array sizes 1e4 and up..."
   ]
  },
  {
   "cell_type": "code",
   "execution_count": 7,
   "metadata": {},
   "outputs": [
    {
     "name": "stdout",
     "output_type": "stream",
     "text": [
      "(1, 0, True)\n"
     ]
    }
   ],
   "source": [
    "print((1,0,1>0))"
   ]
  }
 ],
 "metadata": {
  "kernelspec": {
   "display_name": "Python 3",
   "language": "python",
   "name": "python3"
  },
  "language_info": {
   "codemirror_mode": {
    "name": "ipython",
    "version": 3
   },
   "file_extension": ".py",
   "mimetype": "text/x-python",
   "name": "python",
   "nbconvert_exporter": "python",
   "pygments_lexer": "ipython3",
   "version": "3.7.1"
  }
 },
 "nbformat": 4,
 "nbformat_minor": 2
}
